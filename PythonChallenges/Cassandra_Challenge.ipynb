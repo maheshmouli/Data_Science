{
 "cells": [
  {
   "cell_type": "markdown",
   "metadata": {},
   "source": [
    "- I executed the basic commands using python. I used cloud cassandra \n",
    "- To see whether your data is create or inserted. Check the cql console in cloud"
   ]
  },
  {
   "cell_type": "code",
   "execution_count": 1,
   "metadata": {},
   "outputs": [],
   "source": [
    "import cassandra"
   ]
  },
  {
   "cell_type": "code",
   "execution_count": 2,
   "metadata": {},
   "outputs": [],
   "source": [
    "#This is cloud connection\n",
    "from cassandra.cluster import Cluster\n",
    "from cassandra.auth import PlainTextAuthProvider\n",
    "\n",
    "cloud_config= {\n",
    "        'secure_connect_bundle': 'D:\\ArtificalIntelligence\\FullStackDataScience\\Databases\\Cassandra_Python\\secure-connect-test.zip'\n",
    "}# This is for secure connection to cloud cassandra download the zip file datastax cloud cassandra\n",
    "auth_provider = PlainTextAuthProvider('IwZludvqFmcDYhWclWYuOIQL', 't0Z2ObBQ-rwmagMYa.UKUiS,XCqxE41kEuqm9HFshYfHRRZqk7AKGeeo_IGAlwu_bhZxBGxgT73Tmi7tx2tXL0bhLDeCUACpLH6h-MZ0hWeyEQ9J15HtjRO_mI45_cAG')# provide seceret key\n",
    "cluster = Cluster(cloud=cloud_config, auth_provider=auth_provider)\n",
    "session = cluster.connect()"
   ]
  },
  {
   "cell_type": "code",
   "execution_count": 3,
   "metadata": {},
   "outputs": [
    {
     "name": "stdout",
     "output_type": "stream",
     "text": [
      "Row(keyspace_name='system_auth', durable_writes=True, graph_engine=None, replication=OrderedMapSerializedKey([('class', 'org.apache.cassandra.locator.NetworkTopologyStrategy'), ('us-east-1', '3')]))\n"
     ]
    }
   ],
   "source": [
    "row = session.execute(\"SELECT * FROM system_schema.keyspaces\").one()\n",
    "print(row)"
   ]
  },
  {
   "cell_type": "code",
   "execution_count": 7,
   "metadata": {},
   "outputs": [
    {
     "data": {
      "text/plain": [
       "<cassandra.cluster.ResultSet at 0x2b2a07c2e50>"
      ]
     },
     "execution_count": 7,
     "metadata": {},
     "output_type": "execute_result"
    }
   ],
   "source": [
    "row = session.execute(\"SELECT * FROM system_schema.keyspaces;\")\n",
    "row"
   ]
  },
  {
   "cell_type": "code",
   "execution_count": 8,
   "metadata": {},
   "outputs": [
    {
     "name": "stdout",
     "output_type": "stream",
     "text": [
      "<cassandra.cluster.ResultSet object at 0x000002B2A07C2E50>\n",
      "<cassandra.cluster.ResultSet object at 0x000002B2A07C2E50>\n",
      "<cassandra.cluster.ResultSet object at 0x000002B2A07C2E50>\n",
      "<cassandra.cluster.ResultSet object at 0x000002B2A07C2E50>\n",
      "<cassandra.cluster.ResultSet object at 0x000002B2A07C2E50>\n",
      "<cassandra.cluster.ResultSet object at 0x000002B2A07C2E50>\n",
      "<cassandra.cluster.ResultSet object at 0x000002B2A07C2E50>\n",
      "<cassandra.cluster.ResultSet object at 0x000002B2A07C2E50>\n"
     ]
    }
   ],
   "source": [
    "for i in row:\n",
    "    print(row)"
   ]
  },
  {
   "cell_type": "markdown",
   "metadata": {},
   "source": [
    "# Using the created Keyspace\n",
    "- I tired to create the keyspace using python but It is throwing unauthorized user error even after having admin access."
   ]
  },
  {
   "cell_type": "code",
   "execution_count": 9,
   "metadata": {},
   "outputs": [],
   "source": [
    "row = session.execute(\"USE cass_hw;\")\n"
   ]
  },
  {
   "cell_type": "code",
   "execution_count": 10,
   "metadata": {},
   "outputs": [
    {
     "data": {
      "text/plain": [
       "<cassandra.cluster.ResultSet at 0x2b29ef02100>"
      ]
     },
     "execution_count": 10,
     "metadata": {},
     "output_type": "execute_result"
    }
   ],
   "source": [
    "row"
   ]
  },
  {
   "cell_type": "markdown",
   "metadata": {},
   "source": [
    "# Create a Table"
   ]
  },
  {
   "cell_type": "code",
   "execution_count": 12,
   "metadata": {},
   "outputs": [],
   "source": [
    "row = session.execute(\"CREATE TABLE cass_hw.student(stu_id int PRIMARY KEY, stu_name text, stu_city text, stu_phone varint);\").one()\n"
   ]
  },
  {
   "cell_type": "markdown",
   "metadata": {},
   "source": [
    "# Alter the Table"
   ]
  },
  {
   "cell_type": "code",
   "execution_count": 13,
   "metadata": {},
   "outputs": [],
   "source": [
    "row = session.execute(\"ALTER TABLE cass_hw.student ADD emp_email text;\")"
   ]
  },
  {
   "cell_type": "code",
   "execution_count": 14,
   "metadata": {},
   "outputs": [],
   "source": [
    "row = session.execute(\"ALTER TABLE cass_hw.student DROP emp_email;\")"
   ]
  },
  {
   "cell_type": "markdown",
   "metadata": {},
   "source": [
    "- This one is used to drop the table we created.\n",
    "row = session.execute(\"DROP TABLE student;\")"
   ]
  },
  {
   "cell_type": "markdown",
   "metadata": {},
   "source": [
    "# Inserting Values "
   ]
  },
  {
   "cell_type": "code",
   "execution_count": 18,
   "metadata": {},
   "outputs": [],
   "source": [
    "row = session.execute(\"INSERT INTO cass_hw.student (stu_id, stu_name, stu_city, stu_phone) values(1,'Mahesh','HYD',9701305114);\")"
   ]
  },
  {
   "cell_type": "code",
   "execution_count": 19,
   "metadata": {},
   "outputs": [],
   "source": [
    "row = session.execute(\"INSERT INTO cass_hw.student (stu_id, stu_name, stu_city, stu_phone) values(2,'Mouli','HYD',9701305114);\")"
   ]
  },
  {
   "cell_type": "code",
   "execution_count": 20,
   "metadata": {},
   "outputs": [],
   "source": [
    "row = session.execute(\"INSERT INTO cass_hw.student (stu_id, stu_name, stu_city, stu_phone) values(3,'Gayathri','HYD',9701305114);\")"
   ]
  },
  {
   "cell_type": "markdown",
   "metadata": {},
   "source": [
    "# Truncate Statement\n"
   ]
  },
  {
   "cell_type": "code",
   "execution_count": 21,
   "metadata": {},
   "outputs": [],
   "source": [
    "row = session.execute(\"TRUNCATE cass_hw.student;\")"
   ]
  },
  {
   "cell_type": "markdown",
   "metadata": {},
   "source": [
    "# Creating the Index for specific column"
   ]
  },
  {
   "cell_type": "code",
   "execution_count": 22,
   "metadata": {},
   "outputs": [],
   "source": [
    "row = session.execute(\" CREATE INDEX name on cass_hw.student (stu_name);\")"
   ]
  },
  {
   "cell_type": "code",
   "execution_count": 23,
   "metadata": {},
   "outputs": [],
   "source": [
    "row = session.execute(\"INSERT INTO cass_hw.student (stu_id, stu_name, stu_city, stu_phone) values(1,'Mahesh','HYD',9701305114);\")\n",
    "row = session.execute(\"INSERT INTO cass_hw.student (stu_id, stu_name, stu_city, stu_phone) values(2,'Mouli','HYD',9701305114);\")\n",
    "row = session.execute(\"INSERT INTO cass_hw.student (stu_id, stu_name, stu_city, stu_phone) values(3,'Gayathri','HYD',9701305114);\")"
   ]
  },
  {
   "cell_type": "markdown",
   "metadata": {},
   "source": [
    "# Using Batch to run set of commands"
   ]
  },
  {
   "cell_type": "code",
   "execution_count": 24,
   "metadata": {},
   "outputs": [],
   "source": [
    "row = session.execute(\" BEGIN BATCH INSERT INTO cass_hw.student (stu_id, stu_name, stu_city, stu_phone) values(4,'Don','HYD',1236547890); UPDATE cass_hw.student SET stu_name = 'Allu' WHERE stu_id=3; DELETE stu_city FROM cass_hw.student WHERE stu_id = 2; APPLY BATCH;\")"
   ]
  },
  {
   "cell_type": "markdown",
   "metadata": {},
   "source": [
    "# Update Statement using Where clause"
   ]
  },
  {
   "cell_type": "code",
   "execution_count": 26,
   "metadata": {},
   "outputs": [],
   "source": [
    "row = session.execute(\" UPDATE cass_hw.student SET stu_city='HYD' WHERE stu_id = 2;\")"
   ]
  },
  {
   "cell_type": "code",
   "execution_count": 28,
   "metadata": {},
   "outputs": [],
   "source": [
    "row = session.execute(\" SELECT stu_name, stu_phone FROM cass_hw.student;\")"
   ]
  },
  {
   "cell_type": "code",
   "execution_count": 29,
   "metadata": {},
   "outputs": [
    {
     "name": "stdout",
     "output_type": "stream",
     "text": [
      "Row(stu_name='Mahesh', stu_phone=9701305114)\n",
      "Row(stu_name='Mouli', stu_phone=9701305114)\n",
      "Row(stu_name='Don', stu_phone=1236547890)\n",
      "Row(stu_name='Allu', stu_phone=9701305114)\n"
     ]
    }
   ],
   "source": [
    "for i in row:\n",
    "    print(i)"
   ]
  },
  {
   "cell_type": "markdown",
   "metadata": {},
   "source": [
    "# Deleting a record using Where clause"
   ]
  },
  {
   "cell_type": "code",
   "execution_count": 30,
   "metadata": {},
   "outputs": [],
   "source": [
    "row = session.execute(\" DELETE FROM cass_hw.student WHERE stu_id = 4;\")"
   ]
  },
  {
   "cell_type": "markdown",
   "metadata": {},
   "source": [
    "- In cassandra we can even add list or set or map values into a specific column."
   ]
  },
  {
   "cell_type": "code",
   "execution_count": null,
   "metadata": {},
   "outputs": [],
   "source": []
  }
 ],
 "metadata": {
  "kernelspec": {
   "display_name": "Python 3",
   "language": "python",
   "name": "python3"
  },
  "language_info": {
   "codemirror_mode": {
    "name": "ipython",
    "version": 3
   },
   "file_extension": ".py",
   "mimetype": "text/x-python",
   "name": "python",
   "nbconvert_exporter": "python",
   "pygments_lexer": "ipython3",
   "version": "3.8.5"
  }
 },
 "nbformat": 4,
 "nbformat_minor": 4
}
