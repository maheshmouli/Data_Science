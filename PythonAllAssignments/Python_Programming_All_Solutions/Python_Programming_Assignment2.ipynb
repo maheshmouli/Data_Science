{
 "cells": [
  {
   "cell_type": "markdown",
   "metadata": {},
   "source": [
    "1.\tWrite a Python program to convert kilometers to miles?"
   ]
  },
  {
   "cell_type": "code",
   "execution_count": 11,
   "metadata": {},
   "outputs": [
    {
     "name": "stdout",
     "output_type": "stream",
     "text": [
      "Enter the kilometers: 6\n",
      "6 kilometers is 3.73 miles \n"
     ]
    }
   ],
   "source": [
    "kilo_meters = int(input(\"Enter the kilometers: \"))\n",
    "miles = kilo_meters * 0.62137\n",
    "print(\"{} kilometers is {:.2f} miles \".format(kilo_meters, (miles)))"
   ]
  },
  {
   "cell_type": "markdown",
   "metadata": {},
   "source": [
    "2.\tWrite a Python program to convert Celsius to Fahrenheit?"
   ]
  },
  {
   "cell_type": "code",
   "execution_count": 13,
   "metadata": {},
   "outputs": [
    {
     "name": "stdout",
     "output_type": "stream",
     "text": [
      "Enter the temperature in Celsius Scale: 5.6\n",
      "5.6 celsius is converted to 42.08 Fahrenheit.\n"
     ]
    }
   ],
   "source": [
    "c = float(input(\"Enter the temperature in Celsius Scale: \"))\n",
    "f = ( c * 9/5) + 32\n",
    "print(\"{} celsius is converted to {} Fahrenheit.\".format(c,f))"
   ]
  },
  {
   "cell_type": "markdown",
   "metadata": {},
   "source": [
    "3.\tWrite a Python program to display calendar?"
   ]
  },
  {
   "cell_type": "code",
   "execution_count": 17,
   "metadata": {},
   "outputs": [
    {
     "name": "stdout",
     "output_type": "stream",
     "text": [
      "                                  2024\n",
      "\n",
      "      January                   February                   March\n",
      "Mo Tu We Th Fr Sa Su      Mo Tu We Th Fr Sa Su      Mo Tu We Th Fr Sa Su\n",
      " 1  2  3  4  5  6  7                1  2  3  4                   1  2  3\n",
      " 8  9 10 11 12 13 14       5  6  7  8  9 10 11       4  5  6  7  8  9 10\n",
      "15 16 17 18 19 20 21      12 13 14 15 16 17 18      11 12 13 14 15 16 17\n",
      "22 23 24 25 26 27 28      19 20 21 22 23 24 25      18 19 20 21 22 23 24\n",
      "29 30 31                  26 27 28 29               25 26 27 28 29 30 31\n",
      "\n",
      "       April                      May                       June\n",
      "Mo Tu We Th Fr Sa Su      Mo Tu We Th Fr Sa Su      Mo Tu We Th Fr Sa Su\n",
      " 1  2  3  4  5  6  7             1  2  3  4  5                      1  2\n",
      " 8  9 10 11 12 13 14       6  7  8  9 10 11 12       3  4  5  6  7  8  9\n",
      "15 16 17 18 19 20 21      13 14 15 16 17 18 19      10 11 12 13 14 15 16\n",
      "22 23 24 25 26 27 28      20 21 22 23 24 25 26      17 18 19 20 21 22 23\n",
      "29 30                     27 28 29 30 31            24 25 26 27 28 29 30\n",
      "\n",
      "        July                     August                  September\n",
      "Mo Tu We Th Fr Sa Su      Mo Tu We Th Fr Sa Su      Mo Tu We Th Fr Sa Su\n",
      " 1  2  3  4  5  6  7                1  2  3  4                         1\n",
      " 8  9 10 11 12 13 14       5  6  7  8  9 10 11       2  3  4  5  6  7  8\n",
      "15 16 17 18 19 20 21      12 13 14 15 16 17 18       9 10 11 12 13 14 15\n",
      "22 23 24 25 26 27 28      19 20 21 22 23 24 25      16 17 18 19 20 21 22\n",
      "29 30 31                  26 27 28 29 30 31         23 24 25 26 27 28 29\n",
      "                                                    30\n",
      "\n",
      "      October                   November                  December\n",
      "Mo Tu We Th Fr Sa Su      Mo Tu We Th Fr Sa Su      Mo Tu We Th Fr Sa Su\n",
      "    1  2  3  4  5  6                   1  2  3                         1\n",
      " 7  8  9 10 11 12 13       4  5  6  7  8  9 10       2  3  4  5  6  7  8\n",
      "14 15 16 17 18 19 20      11 12 13 14 15 16 17       9 10 11 12 13 14 15\n",
      "21 22 23 24 25 26 27      18 19 20 21 22 23 24      16 17 18 19 20 21 22\n",
      "28 29 30 31               25 26 27 28 29 30         23 24 25 26 27 28 29\n",
      "                                                    30 31\n",
      "\n"
     ]
    }
   ],
   "source": [
    "import calendar\n",
    "\n",
    "mycal = calendar.calendar(2024)\n",
    "print(mycal)"
   ]
  },
  {
   "cell_type": "markdown",
   "metadata": {},
   "source": [
    "4.\tWrite a Python program to solve quadratic equation?"
   ]
  },
  {
   "cell_type": "code",
   "execution_count": 19,
   "metadata": {},
   "outputs": [
    {
     "name": "stdout",
     "output_type": "stream",
     "text": [
      "Enter a non zero value for a: 4\n",
      "Enter a integer for b: 2\n",
      "Enter a integer for c: 6\n",
      "Roots are Complex\n",
      "-0.25 +i 9.591663046625438\n",
      "-0.25 -i 9.591663046625438\n"
     ]
    }
   ],
   "source": [
    "import math\n",
    "\n",
    "def quad_equ(a, b, c):\n",
    "    \n",
    "    dis = b**2 - 4 * a *c\n",
    "    sqt = math.sqrt(abs(dis))\n",
    "    \n",
    "    if dis < 0 :\n",
    "        print(\"Roots are Complex\")\n",
    "        print(-b/(2*a),\"+i\",sqt)\n",
    "        print(-b/(2*a),\"-i\",sqt)\n",
    "    elif dis > 0 :\n",
    "        print(\"Roots are Real and Different\")\n",
    "        print((-b + sqt)/(2*a))\n",
    "        print((-b - sqt)/(2*a))\n",
    "    else:\n",
    "        print(\"Roots are Real and Same\")\n",
    "        print(-b/(2*a))\n",
    "        \n",
    "if __name__==\"__main__\":\n",
    "    a = int(input(\"Enter a non zero value for a: \"))\n",
    "    b = int(input(\"Enter a integer for b: \"))\n",
    "    c = int(input(\"Enter a integer for c: \"))\n",
    "    if a == 0:\n",
    "        print(\"Incorrect quadratic equation\")\n",
    "    else:\n",
    "        quad_equ(a, b, c)\n",
    "    "
   ]
  },
  {
   "cell_type": "code",
   "execution_count": null,
   "metadata": {},
   "outputs": [],
   "source": []
  },
  {
   "cell_type": "code",
   "execution_count": null,
   "metadata": {},
   "outputs": [],
   "source": [
    "x = input(\"Enter something to swap x \")\n",
    "y = input(\"Enter something to swap y \")\n",
    "\n",
    "x, y = y, x\n",
    "print(\"x = \",x)\n",
    "print(\"y = \",y)"
   ]
  }
 ],
 "metadata": {
  "kernelspec": {
   "display_name": "Python 3",
   "language": "python",
   "name": "python3"
  },
  "language_info": {
   "codemirror_mode": {
    "name": "ipython",
    "version": 3
   },
   "file_extension": ".py",
   "mimetype": "text/x-python",
   "name": "python",
   "nbconvert_exporter": "python",
   "pygments_lexer": "ipython3",
   "version": "3.8.5"
  }
 },
 "nbformat": 4,
 "nbformat_minor": 4
}
