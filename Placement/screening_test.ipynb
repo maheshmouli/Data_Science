{
 "cells": [
  {
   "cell_type": "markdown",
   "id": "34376312",
   "metadata": {},
   "source": [
    "Create a function in python to read the text file and replace specific content of the file.\n"
   ]
  },
  {
   "cell_type": "code",
   "execution_count": 33,
   "id": "1aeb19f5",
   "metadata": {},
   "outputs": [
    {
     "name": "stdout",
     "output_type": "stream",
     "text": [
      "Enter the filename: example.txt\n",
      "Before replacement:  This is a placement assignment\n",
      "After replacement:  This is a screening assignment\n"
     ]
    }
   ],
   "source": [
    "import logging\n",
    "logging.basicConfig(filename=\"example.log\", level=logging.DEBUG, format=\"%(asctime)s %(levelname)s %(message)s\")\n",
    "\n",
    "def string_replacement(filename):\n",
    "    logging.info(\"This the beginning of the code for entering %s\", filename)\n",
    "    \n",
    "    try:\n",
    "        with open(filename, 'r') as f:\n",
    "            data = f.read()\n",
    "            print(\"Before replacement: \", data)\n",
    "        data = data.replace(\"placement\", \"screening\")\n",
    "        with open(filename, 'w') as l:\n",
    "            l.write(data)\n",
    "            print(\"After replacement: \", data)\n",
    "            logging.info(\"Replaced the  string successfully.\")\n",
    "            \n",
    "    except Exception as e:\n",
    "        print(\"Exception Occurred: {}\".format(type(e)))\n",
    "        logging.error(\"Code break-down, ERROR!!\")\n",
    "        logging.exception(\"Encountered an Exception, \"+ str(e))\n",
    "        \n",
    "    return \"Successfully replaced the string\"\n",
    "\n",
    "if __name__ == \"__main__\":\n",
    "    filename = input(\"Enter the filename: \")\n",
    "    string_replacement(filename)"
   ]
  },
  {
   "cell_type": "markdown",
   "id": "78671c2a",
   "metadata": {},
   "source": [
    "Demonstrate use of abstract class, multiple inheritance and decorator in\n",
    "python using examples."
   ]
  },
  {
   "cell_type": "code",
   "execution_count": 21,
   "id": "01b3d1a2",
   "metadata": {},
   "outputs": [
    {
     "name": "stdout",
     "output_type": "stream",
     "text": [
      "For opening an account you need to choose from below\n",
      " 1.Checking Account\n",
      " 2.Savings Account\n",
      "2\n",
      "You have choosen Savings Account. Thank you\n",
      "Please visit to mentioned bank location: 1412 11th St S, Birmingham, Alabama - 35205\n"
     ]
    }
   ],
   "source": [
    "#Abstract Class using example\n",
    "\n",
    "from abc import ABC, abstractmethod\n",
    "\n",
    "class Banking(ABC):\n",
    "    def welcome_info(self):\n",
    "        print(\"Welcome to Internation Banking at Wells Fargo.\")\n",
    "    \n",
    "    def location(self):\n",
    "        print(\"Please visit to mentioned bank location: 1412 11th St S, Birmingham, Alabama - 35205\")\n",
    "    @abstractmethod   \n",
    "    def types_of_account(self):\n",
    "        pass\n",
    "    \n",
    "class WellsFargo(Banking):\n",
    "    def types_of_account(self):\n",
    "        print(\"For opening an account you need to choose from below\\n 1.Checking Account\\n 2.Savings Account\")\n",
    "        account_type = int(input())\n",
    "        if account_type==1:\n",
    "            print(\"You have choosen Checking Account. Thank you\")\n",
    "        elif account_type==2:\n",
    "            print(\"You have choosen Savings Account. Thank you\")\n",
    "        else:\n",
    "            print(\"Please choose the account type from the avaliable options\")\n",
    "            \n",
    "wf = WellsFargo()\n",
    "wf.types_of_account()\n",
    "wf.location()"
   ]
  },
  {
   "cell_type": "code",
   "execution_count": 17,
   "id": "f5e1d718",
   "metadata": {},
   "outputs": [
    {
     "name": "stdout",
     "output_type": "stream",
     "text": [
      "Megha Shyam and Harsha are children of Seshagiri and KanakaLaxmi. They live in Hyderabad\n"
     ]
    }
   ],
   "source": [
    "#Multiple Inheritancec using example\n",
    "\n",
    "class Parents:\n",
    "    def __init__(self, father, mother):\n",
    "        self.father = father\n",
    "        self.mother = mother\n",
    "        \n",
    "class Children:\n",
    "    def __init__(self, son, daughter):\n",
    "        self.son = son\n",
    "        self.daughter = daughter\n",
    "        \n",
    "class Family(Parents, Children):\n",
    "    def __init__(self, father, mother, son, daughter, city):\n",
    "        self.city =city\n",
    "        Parents.__init__(self, father, mother)\n",
    "        Children.__init__(self, son, daughter)\n",
    "        print(\"{} and {} are children of {} and {}. They live in {}\". format(self.son, self.daughter, self.father, self.mother, self.city))\n",
    "    \n",
    "f = Family(\"Seshagiri\", \"KanakaLaxmi\", \"Megha Shyam\", \"Harsha\", \"Hyderabad\")\n",
    "    "
   ]
  },
  {
   "cell_type": "code",
   "execution_count": 18,
   "id": "a7436460",
   "metadata": {},
   "outputs": [],
   "source": [
    "#decorator using example\n",
    "\n",
    "def adding_list(self):\n",
    "    def addition(list_of_addition):\n",
    "        return [self(i[0], i[1]) for i in list_of_addition]\n",
    "    return addition\n",
    "\n",
    "@adding_list\n",
    "def adding(a, b):\n",
    "    return a + b"
   ]
  },
  {
   "cell_type": "code",
   "execution_count": 19,
   "id": "9ad171d5",
   "metadata": {},
   "outputs": [
    {
     "data": {
      "text/plain": [
       "[3, 7, 11, 13]"
      ]
     },
     "execution_count": 19,
     "metadata": {},
     "output_type": "execute_result"
    }
   ],
   "source": [
    "adding([(1,2), (3,4), (5,6), (7, 6)])"
   ]
  },
  {
   "cell_type": "code",
   "execution_count": null,
   "id": "9c176903",
   "metadata": {},
   "outputs": [],
   "source": []
  }
 ],
 "metadata": {
  "kernelspec": {
   "display_name": "Python 3 (ipykernel)",
   "language": "python",
   "name": "python3"
  },
  "language_info": {
   "codemirror_mode": {
    "name": "ipython",
    "version": 3
   },
   "file_extension": ".py",
   "mimetype": "text/x-python",
   "name": "python",
   "nbconvert_exporter": "python",
   "pygments_lexer": "ipython3",
   "version": "3.9.7"
  }
 },
 "nbformat": 4,
 "nbformat_minor": 5
}
