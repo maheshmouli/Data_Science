{
 "cells": [
  {
   "cell_type": "markdown",
   "id": "34376312",
   "metadata": {},
   "source": [
    "Create a function in python to read the text file and replace specific content of the file.\n"
   ]
  },
  {
   "cell_type": "code",
   "execution_count": 33,
   "id": "1aeb19f5",
   "metadata": {},
   "outputs": [
    {
     "name": "stdout",
     "output_type": "stream",
     "text": [
      "Enter the filename: example.txt\n",
      "Before replacement:  This is a placement assignment\n",
      "After replacement:  This is a screening assignment\n"
     ]
    }
   ],
   "source": [
    "import logging\n",
    "logging.basicConfig(filename=\"example.log\", level=logging.DEBUG, format=\"%(asctime)s %(levelname)s %(message)s\")\n",
    "\n",
    "def string_replacement(filename):\n",
    "    logging.info(\"This the beginning of the code for entering %s\", filename)\n",
    "    \n",
    "    try:\n",
    "        with open(filename, 'r') as f:\n",
    "            data = f.read()\n",
    "            print(\"Before replacement: \", data)\n",
    "        data = data.replace(\"placement\", \"screening\")\n",
    "        with open(filename, 'w') as l:\n",
    "            l.write(data)\n",
    "            print(\"After replacement: \", data)\n",
    "            logging.info(\"Replaced the  string successfully.\")\n",
    "            \n",
    "    except Exception as e:\n",
    "        print(\"Exception Occurred: {}\".format(type(e)))\n",
    "        logging.error(\"Code break-down, ERROR!!\")\n",
    "        logging.exception(\"Encountered an Exception, \"+ str(e))\n",
    "        \n",
    "    return \"Successfully replaced the string\"\n",
    "\n",
    "if __name__ == \"__main__\":\n",
    "    filename = input(\"Enter the filename: \")\n",
    "    string_replacement(filename)"
   ]
  },
  {
   "cell_type": "markdown",
   "id": "78671c2a",
   "metadata": {},
   "source": [
    "Demonstrate use of abstract class, multiple inheritance and decorator in\n",
    "python using examples."
   ]
  },
  {
   "cell_type": "code",
   "execution_count": null,
   "id": "01b3d1a2",
   "metadata": {},
   "outputs": [],
   "source": [
    "#Abstract Class using example\n",
    "\n",
    "from abc import ABC, abstractmethod\n",
    "\n",
    "class Person(ABC):\n",
    "    @abstractmethod\n",
    "    def details(self, name, salary):\n",
    "        pass\n",
    "    \n",
    "class "
   ]
  }
 ],
 "metadata": {
  "kernelspec": {
   "display_name": "Python 3 (ipykernel)",
   "language": "python",
   "name": "python3"
  },
  "language_info": {
   "codemirror_mode": {
    "name": "ipython",
    "version": 3
   },
   "file_extension": ".py",
   "mimetype": "text/x-python",
   "name": "python",
   "nbconvert_exporter": "python",
   "pygments_lexer": "ipython3",
   "version": "3.9.7"
  }
 },
 "nbformat": 4,
 "nbformat_minor": 5
}
